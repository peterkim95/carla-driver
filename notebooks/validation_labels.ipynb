{
 "cells": [
  {
   "cell_type": "code",
   "execution_count": 1,
   "metadata": {},
   "outputs": [],
   "source": [
    "import os\n",
    "import sys"
   ]
  },
  {
   "cell_type": "code",
   "execution_count": 2,
   "metadata": {},
   "outputs": [],
   "source": [
    "sys.path.append(\"..\") # Adds higher directory to python modules path. # Works for EC2"
   ]
  },
  {
   "cell_type": "code",
   "execution_count": 12,
   "metadata": {},
   "outputs": [],
   "source": [
    "import pandas as pd\n",
    "import seaborn as sns\n",
    "import numpy as np\n",
    "import torchvision.transforms as transforms\n",
    "import torch"
   ]
  },
  {
   "cell_type": "code",
   "execution_count": 26,
   "metadata": {},
   "outputs": [],
   "source": [
    "from pilotnet import PilotNet\n",
    "from dataset import DrivingDataset"
   ]
  },
  {
   "cell_type": "code",
   "execution_count": 6,
   "metadata": {},
   "outputs": [],
   "source": [
    "data_path = '2020-10-04_06:22:49'"
   ]
  },
  {
   "cell_type": "code",
   "execution_count": 58,
   "metadata": {},
   "outputs": [],
   "source": [
    "val_path = f'../data/{data_path}/val'\n",
    "train_path = f'../data/{data_path}/train'"
   ]
  },
  {
   "cell_type": "code",
   "execution_count": 9,
   "metadata": {},
   "outputs": [],
   "source": [
    "transform = transforms.Compose([transforms.Resize((200, 66)), transforms.ToTensor(), transforms.Normalize((0.5, 0.5, 0.5), (0.5, 0.5, 0.5))])"
   ]
  },
  {
   "cell_type": "code",
   "execution_count": 55,
   "metadata": {},
   "outputs": [],
   "source": [
    "val_set = DrivingDataset(val_path, transform)"
   ]
  },
  {
   "cell_type": "code",
   "execution_count": 56,
   "metadata": {},
   "outputs": [],
   "source": [
    "val_loader = torch.utils.data.DataLoader(val_set, shuffle=False, batch_size=32)"
   ]
  },
  {
   "cell_type": "code",
   "execution_count": 59,
   "metadata": {},
   "outputs": [],
   "source": [
    "train_set = DrivingDataset(train_path, transform)"
   ]
  },
  {
   "cell_type": "code",
   "execution_count": 60,
   "metadata": {},
   "outputs": [],
   "source": [
    "train_loader = torch.utils.data.DataLoader(train_set, shuffle=True, batch_size=32)"
   ]
  },
  {
   "cell_type": "code",
   "execution_count": 35,
   "metadata": {},
   "outputs": [],
   "source": [
    "label_df = pd.DataFrame.from_dict(val_set.labels, orient='index')"
   ]
  },
  {
   "cell_type": "code",
   "execution_count": 36,
   "metadata": {},
   "outputs": [
    {
     "data": {
      "text/html": [
       "<div>\n",
       "<style scoped>\n",
       "    .dataframe tbody tr th:only-of-type {\n",
       "        vertical-align: middle;\n",
       "    }\n",
       "\n",
       "    .dataframe tbody tr th {\n",
       "        vertical-align: top;\n",
       "    }\n",
       "\n",
       "    .dataframe thead th {\n",
       "        text-align: right;\n",
       "    }\n",
       "</style>\n",
       "<table border=\"1\" class=\"dataframe\">\n",
       "  <thead>\n",
       "    <tr style=\"text-align: right;\">\n",
       "      <th></th>\n",
       "      <th>steer</th>\n",
       "      <th>throttle</th>\n",
       "      <th>brake</th>\n",
       "      <th>hand_brake</th>\n",
       "      <th>reverse</th>\n",
       "    </tr>\n",
       "  </thead>\n",
       "  <tbody>\n",
       "    <tr>\n",
       "      <th>episode_0099/CameraRGB/000540</th>\n",
       "      <td>-0.054236</td>\n",
       "      <td>0.5</td>\n",
       "      <td>0.0</td>\n",
       "      <td>False</td>\n",
       "      <td>False</td>\n",
       "    </tr>\n",
       "    <tr>\n",
       "      <th>episode_0099/CameraRGB/000868</th>\n",
       "      <td>-0.008359</td>\n",
       "      <td>0.0</td>\n",
       "      <td>1.0</td>\n",
       "      <td>False</td>\n",
       "      <td>False</td>\n",
       "    </tr>\n",
       "    <tr>\n",
       "      <th>episode_0099/CameraRGB/000770</th>\n",
       "      <td>0.008301</td>\n",
       "      <td>0.0</td>\n",
       "      <td>1.0</td>\n",
       "      <td>False</td>\n",
       "      <td>False</td>\n",
       "    </tr>\n",
       "    <tr>\n",
       "      <th>episode_0099/CameraRGB/000037</th>\n",
       "      <td>0.198570</td>\n",
       "      <td>0.5</td>\n",
       "      <td>0.0</td>\n",
       "      <td>False</td>\n",
       "      <td>False</td>\n",
       "    </tr>\n",
       "    <tr>\n",
       "      <th>episode_0032/CameraRGB/000563</th>\n",
       "      <td>0.075024</td>\n",
       "      <td>0.0</td>\n",
       "      <td>1.0</td>\n",
       "      <td>False</td>\n",
       "      <td>False</td>\n",
       "    </tr>\n",
       "    <tr>\n",
       "      <th>...</th>\n",
       "      <td>...</td>\n",
       "      <td>...</td>\n",
       "      <td>...</td>\n",
       "      <td>...</td>\n",
       "      <td>...</td>\n",
       "    </tr>\n",
       "    <tr>\n",
       "      <th>episode_0099/CameraRGB/000288</th>\n",
       "      <td>0.010730</td>\n",
       "      <td>0.0</td>\n",
       "      <td>1.0</td>\n",
       "      <td>False</td>\n",
       "      <td>False</td>\n",
       "    </tr>\n",
       "    <tr>\n",
       "      <th>episode_0002/CameraRGB/000294</th>\n",
       "      <td>0.108044</td>\n",
       "      <td>0.0</td>\n",
       "      <td>1.0</td>\n",
       "      <td>False</td>\n",
       "      <td>False</td>\n",
       "    </tr>\n",
       "    <tr>\n",
       "      <th>episode_0010/CameraRGB/000338</th>\n",
       "      <td>-0.032366</td>\n",
       "      <td>0.0</td>\n",
       "      <td>1.0</td>\n",
       "      <td>False</td>\n",
       "      <td>False</td>\n",
       "    </tr>\n",
       "    <tr>\n",
       "      <th>episode_0010/CameraRGB/000663</th>\n",
       "      <td>0.066639</td>\n",
       "      <td>0.5</td>\n",
       "      <td>0.0</td>\n",
       "      <td>False</td>\n",
       "      <td>False</td>\n",
       "    </tr>\n",
       "    <tr>\n",
       "      <th>episode_0043/CameraRGB/000860</th>\n",
       "      <td>0.052842</td>\n",
       "      <td>0.0</td>\n",
       "      <td>1.0</td>\n",
       "      <td>False</td>\n",
       "      <td>False</td>\n",
       "    </tr>\n",
       "  </tbody>\n",
       "</table>\n",
       "<p>100 rows × 5 columns</p>\n",
       "</div>"
      ],
      "text/plain": [
       "                                  steer  throttle  brake  hand_brake  reverse\n",
       "episode_0099/CameraRGB/000540 -0.054236       0.5    0.0       False    False\n",
       "episode_0099/CameraRGB/000868 -0.008359       0.0    1.0       False    False\n",
       "episode_0099/CameraRGB/000770  0.008301       0.0    1.0       False    False\n",
       "episode_0099/CameraRGB/000037  0.198570       0.5    0.0       False    False\n",
       "episode_0032/CameraRGB/000563  0.075024       0.0    1.0       False    False\n",
       "...                                 ...       ...    ...         ...      ...\n",
       "episode_0099/CameraRGB/000288  0.010730       0.0    1.0       False    False\n",
       "episode_0002/CameraRGB/000294  0.108044       0.0    1.0       False    False\n",
       "episode_0010/CameraRGB/000338 -0.032366       0.0    1.0       False    False\n",
       "episode_0010/CameraRGB/000663  0.066639       0.5    0.0       False    False\n",
       "episode_0043/CameraRGB/000860  0.052842       0.0    1.0       False    False\n",
       "\n",
       "[100 rows x 5 columns]"
      ]
     },
     "execution_count": 36,
     "metadata": {},
     "output_type": "execute_result"
    }
   ],
   "source": [
    "label_df[:100]"
   ]
  },
  {
   "cell_type": "code",
   "execution_count": 25,
   "metadata": {},
   "outputs": [
    {
     "data": {
      "text/plain": [
       "0.0    8084\n",
       "0.5    8070\n",
       "1.0    3846\n",
       "Name: throttle, dtype: int64"
      ]
     },
     "execution_count": 25,
     "metadata": {},
     "output_type": "execute_result"
    }
   ],
   "source": [
    "label_df['throttle'].value_counts()"
   ]
  },
  {
   "cell_type": "code",
   "execution_count": 66,
   "metadata": {},
   "outputs": [
    {
     "data": {
      "text/plain": [
       "<All keys matched successfully>"
      ]
     },
     "execution_count": 66,
     "metadata": {},
     "output_type": "execute_result"
    }
   ],
   "source": [
    "net = PilotNet()\n",
    "net.load_state_dict(torch.load('../checkpoints/net_epoch_0.pt'))"
   ]
  },
  {
   "cell_type": "markdown",
   "metadata": {},
   "source": [
    "# epoch 20 train"
   ]
  },
  {
   "cell_type": "code",
   "execution_count": 65,
   "metadata": {},
   "outputs": [
    {
     "name": "stdout",
     "output_type": "stream",
     "text": [
      "      y_true        y_pred      diff\n",
      "0   0.058658  2.581488e-02  0.032843\n",
      "1  -0.013193  8.729206e-03  0.021922\n",
      "2  -0.505007 -5.568654e-01  0.051858\n",
      "3   0.064320  1.915296e-02  0.045167\n",
      "4   0.406180  5.867173e-01  0.180538\n",
      "5   0.076585  8.532800e-02  0.008743\n",
      "6   0.049195  9.027996e-03  0.040167\n",
      "7   0.003282  5.079129e-02  0.047510\n",
      "8   0.096242  1.599441e-02  0.080248\n",
      "9   0.007911  8.139758e-03  0.000229\n",
      "10 -0.098238 -2.857780e-02  0.069660\n",
      "11 -0.091972 -5.719018e-03  0.086253\n",
      "12  0.082692  3.501773e-07  0.082692\n",
      "13  0.050818 -3.543496e-04  0.051172\n",
      "14  0.044387  7.112212e-03  0.037274\n",
      "15 -0.007069  6.467004e-02  0.071739\n",
      "16  0.170292  1.519162e-01  0.018376\n",
      "17 -0.069468  9.317694e-03  0.078785\n",
      "18 -0.048684  5.133658e-03  0.053818\n",
      "19 -0.039599  3.339306e-02  0.072992\n",
      "20 -0.096481 -5.023616e-02  0.046245\n",
      "21  0.009432  1.059375e-02  0.001162\n",
      "22 -0.040005 -1.420758e-02  0.025797\n",
      "23 -0.022517  3.927867e-02  0.061795\n",
      "24  0.035475 -1.332227e-02  0.048798\n",
      "25  0.046424  4.065935e-02  0.005764\n",
      "26 -0.064696  2.492490e-03  0.067189\n",
      "27  0.036194 -9.872906e-03  0.046067\n",
      "28  0.349783  3.305615e-01  0.019222\n",
      "29  0.100446  5.121055e-02  0.049236\n",
      "30  0.083353  3.422015e-02  0.049133\n",
      "31 -0.054839 -6.227197e-03  0.048612\n"
     ]
    }
   ],
   "source": [
    "with torch.no_grad():\n",
    "    for x, y in train_loader:\n",
    "        output = net(x)\n",
    "\n",
    "        r = pd.DataFrame({'y_true': y.squeeze().tolist(), 'y_pred': output.squeeze().tolist()})\n",
    "        r['diff'] = abs(r['y_true'] - r['y_pred'])\n",
    "        print(r)\n",
    "        break"
   ]
  },
  {
   "cell_type": "markdown",
   "metadata": {},
   "source": [
    "# epoch 20 val"
   ]
  },
  {
   "cell_type": "code",
   "execution_count": 64,
   "metadata": {},
   "outputs": [
    {
     "name": "stdout",
     "output_type": "stream",
     "text": [
      "      y_true    y_pred      diff\n",
      "0  -0.096465  0.002446  0.098911\n",
      "1   0.036719 -0.007849  0.044568\n",
      "2   0.012999  0.003305  0.009695\n",
      "3  -0.056147  0.025382  0.081529\n",
      "4   0.015840  0.003238  0.012602\n",
      "5   0.037365 -0.001571  0.038936\n",
      "6  -0.027121  0.003138  0.030260\n",
      "7  -0.098222  0.003155  0.101378\n",
      "8   0.662616  0.038257  0.624359\n",
      "9  -0.031648 -0.007036  0.024612\n",
      "10  0.079143 -0.000120  0.079264\n",
      "11 -0.095463  0.016002  0.111465\n",
      "12 -0.051396 -0.006206  0.045190\n",
      "13  0.060515 -0.007523  0.068038\n",
      "14  0.079789 -0.006781  0.086571\n",
      "15  0.092479  0.256682  0.164203\n",
      "16  0.059257  0.003253  0.056004\n",
      "17 -0.003085  0.003133  0.006218\n",
      "18  0.087389  0.001122  0.086267\n",
      "19 -0.009801  0.000913  0.010714\n",
      "20 -0.027202  0.003004  0.030206\n",
      "21 -0.029597  0.002930  0.032527\n",
      "22  0.013737  0.020257  0.006519\n",
      "23  0.064578  0.004163  0.060414\n",
      "24  0.024955  0.063843  0.038888\n",
      "25 -0.048009 -0.006515  0.041494\n",
      "26  0.045181  0.021176  0.024006\n",
      "27  0.021276 -0.002485  0.023761\n",
      "28  0.068274  0.003191  0.065083\n",
      "29  0.107066  0.054198  0.052868\n",
      "30  0.039936 -0.013347  0.053283\n",
      "31 -0.076325  0.003978  0.080303\n"
     ]
    }
   ],
   "source": [
    "with torch.no_grad():\n",
    "    for x, y in val_loader:\n",
    "        output = net(x)\n",
    "\n",
    "        r = pd.DataFrame({'y_true': y.squeeze().tolist(), 'y_pred': output.squeeze().tolist()})\n",
    "        r['diff'] = abs(r['y_true'] - r['y_pred'])\n",
    "        print(r)\n",
    "        break"
   ]
  },
  {
   "cell_type": "markdown",
   "metadata": {},
   "source": [
    "# bad model train"
   ]
  },
  {
   "cell_type": "code",
   "execution_count": 67,
   "metadata": {},
   "outputs": [
    {
     "name": "stdout",
     "output_type": "stream",
     "text": [
      "      y_true    y_pred      diff\n",
      "0  -0.013922 -0.023099  0.009177\n",
      "1  -0.020676 -0.002279  0.018397\n",
      "2  -0.110419 -0.031066  0.079353\n",
      "3  -0.178152 -0.011888  0.166264\n",
      "4   0.091041 -0.012487  0.103528\n",
      "5  -0.048897 -0.004273  0.044624\n",
      "6   0.215275  0.000623  0.214652\n",
      "7   0.051685 -0.015844  0.067529\n",
      "8   0.342252 -0.020937  0.363189\n",
      "9   0.052935  0.018421  0.034514\n",
      "10 -0.020017 -0.012733  0.007284\n",
      "11 -0.055528  0.003400  0.058928\n",
      "12 -0.099684 -0.009167  0.090517\n",
      "13  0.018317 -0.007065  0.025382\n",
      "14 -0.053122 -0.020352  0.032770\n",
      "15  0.192025 -0.017073  0.209098\n",
      "16 -0.537225 -0.048969  0.488255\n",
      "17  0.040313 -0.006904  0.047217\n",
      "18  0.037958 -0.003784  0.041742\n",
      "19 -0.080555 -0.011440  0.069115\n",
      "20 -0.087342 -0.006249  0.081093\n",
      "21  0.099522 -0.001499  0.101022\n",
      "22  0.124678 -0.008667  0.133345\n",
      "23 -0.126579 -0.016356  0.110223\n",
      "24 -0.040045 -0.003685  0.036359\n",
      "25  0.048138 -0.015305  0.063443\n",
      "26  0.121413 -0.022048  0.143461\n",
      "27  0.000154 -0.004658  0.004812\n",
      "28  0.016758 -0.024825  0.041583\n",
      "29 -0.038220 -0.016292  0.021928\n",
      "30  0.044991 -0.001664  0.046655\n",
      "31 -0.024534 -0.005582  0.018952\n"
     ]
    }
   ],
   "source": [
    "with torch.no_grad():\n",
    "    for x, y in train_loader:\n",
    "        output = net(x)\n",
    "\n",
    "        r = pd.DataFrame({'y_true': y.squeeze().tolist(), 'y_pred': output.squeeze().tolist()})\n",
    "        r['diff'] = abs(r['y_true'] - r['y_pred'])\n",
    "        print(r)\n",
    "        break"
   ]
  },
  {
   "cell_type": "markdown",
   "metadata": {},
   "source": [
    "# bad model val"
   ]
  },
  {
   "cell_type": "code",
   "execution_count": 68,
   "metadata": {},
   "outputs": [
    {
     "name": "stdout",
     "output_type": "stream",
     "text": [
      "      y_true    y_pred      diff\n",
      "0  -0.096465  0.020038  0.116503\n",
      "1   0.036719  0.010400  0.026319\n",
      "2   0.012999  0.019825  0.006825\n",
      "3  -0.056147  0.006019  0.062166\n",
      "4   0.015840  0.019627  0.003787\n",
      "5   0.037365 -0.002726  0.040091\n",
      "6  -0.027121  0.020044  0.047165\n",
      "7  -0.098222  0.019896  0.118119\n",
      "8   0.662616 -0.008854  0.671470\n",
      "9  -0.031648 -0.022534  0.009114\n",
      "10  0.079143  0.001788  0.077355\n",
      "11 -0.095463  0.033830  0.129293\n",
      "12 -0.051396 -0.010124  0.041271\n",
      "13  0.060515 -0.022632  0.083147\n",
      "14  0.079789 -0.022563  0.102352\n",
      "15  0.092479  0.012458  0.080022\n",
      "16  0.059257  0.019767  0.039490\n",
      "17 -0.003085  0.019919  0.023004\n",
      "18  0.087389  0.016391  0.070997\n",
      "19 -0.009801  0.018028  0.027828\n",
      "20 -0.027202  0.019875  0.047077\n",
      "21 -0.029597  0.019636  0.049234\n",
      "22  0.013737 -0.021461  0.035198\n",
      "23  0.064578  0.020790  0.043788\n",
      "24  0.024955 -0.000538  0.025492\n",
      "25 -0.048009 -0.022761  0.025247\n",
      "26  0.045181  0.021366  0.023815\n",
      "27  0.021276  0.006546  0.014730\n",
      "28  0.068274  0.020157  0.048117\n",
      "29  0.107066 -0.012721  0.119787\n",
      "30  0.039936  0.020426  0.019510\n",
      "31 -0.076325  0.019413  0.095737\n"
     ]
    }
   ],
   "source": [
    "with torch.no_grad():\n",
    "    for x, y in val_loader:\n",
    "        output = net(x)\n",
    "\n",
    "        r = pd.DataFrame({'y_true': y.squeeze().tolist(), 'y_pred': output.squeeze().tolist()})\n",
    "        r['diff'] = abs(r['y_true'] - r['y_pred'])\n",
    "        print(r)\n",
    "        break"
   ]
  },
  {
   "cell_type": "code",
   "execution_count": null,
   "metadata": {},
   "outputs": [],
   "source": []
  }
 ],
 "metadata": {
  "kernelspec": {
   "display_name": "carla",
   "language": "python",
   "name": "carla"
  },
  "language_info": {
   "codemirror_mode": {
    "name": "ipython",
    "version": 3
   },
   "file_extension": ".py",
   "mimetype": "text/x-python",
   "name": "python",
   "nbconvert_exporter": "python",
   "pygments_lexer": "ipython3",
   "version": "3.6.10"
  }
 },
 "nbformat": 4,
 "nbformat_minor": 4
}
